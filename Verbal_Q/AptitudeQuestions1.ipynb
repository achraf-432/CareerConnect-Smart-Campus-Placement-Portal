{
 "cells": [
  {
   "cell_type": "markdown",
   "metadata": {},
   "source": [
    "Import Libraries"
   ]
  },
  {
   "cell_type": "code",
   "execution_count": 26,
   "metadata": {},
   "outputs": [],
   "source": [
    "import requests\n",
    "from bs4 import BeautifulSoup\n",
    "import pandas as pd\n",
    "import random\n",
    "import os"
   ]
  },
  {
   "cell_type": "markdown",
   "metadata": {},
   "source": [
    "Data Scrapping : Source - indiabix"
   ]
  },
  {
   "cell_type": "code",
   "execution_count": 27,
   "metadata": {},
   "outputs": [],
   "source": [
    "def retrieve_content(url):\n",
    "    try:\n",
    "        response = requests.get(url, verify=False)\n",
    "        response.raise_for_status()\n",
    "        soup = BeautifulSoup(response.content, 'html.parser')\n",
    "        \n",
    "        questions = soup.find_all('div', class_='bix-div-container')\n",
    "        data = []\n",
    "        \n",
    "        for question in questions:\n",
    "            q_number = question.find('div', class_='bix-td-qno').text.strip()\n",
    "            q_text = question.find('div', class_='bix-td-qtxt').text.strip()\n",
    "            options_div = question.find('div', class_='bix-tbl-options')\n",
    "            \n",
    "            options = []\n",
    "            if options_div:\n",
    "                for option in options_div.find_all('div', class_='bix-opt-row'):\n",
    "                    option_text = option.text.strip()\n",
    "                    if option_text:\n",
    "                        options.append(option_text)\n",
    "            \n",
    "            answer = question.find('input', class_='jq-hdnakq')['value']\n",
    "            explanation = question.find('div', class_='bix-div-answer').text.strip() if question.find('div', class_='bix-div-answer') else 'No explanation provided'\n",
    "            \n",
    "            data.append({\n",
    "                'Question Number': q_number,\n",
    "                'Question Text': q_text,\n",
    "                'Options': '; '.join(options),\n",
    "                'Answer': answer,\n",
    "                'Explanation': explanation\n",
    "            })\n",
    "        \n",
    "        return data\n",
    "    except requests.RequestException as e:\n",
    "        print(f\"Error fetching content from {url}: {e}\")\n",
    "        return []"
   ]
  },
  {
   "cell_type": "code",
   "execution_count": 28,
   "metadata": {},
   "outputs": [],
   "source": [
    "def create_or_append_xls_file(data, filename):\n",
    "    try:\n",
    "        if os.path.exists(filename):\n",
    "            df_existing = pd.read_excel(filename)\n",
    "            df_new = pd.DataFrame(data)\n",
    "            df_combined = pd.concat([df_existing, df_new], ignore_index=True)\n",
    "            df_combined.to_excel(filename, index=False)\n",
    "        else:\n",
    "            df_new = pd.DataFrame(data)\n",
    "            df_new.to_excel(filename, index=False)\n",
    "        \n",
    "        #print(f\"Excel file '{filename}' updated successfully.\")\n",
    "    except Exception as e:\n",
    "        print(f\"Error creating or appending Excel file '{filename}': {e}\")"
   ]
  },
  {
   "cell_type": "code",
   "execution_count": 29,
   "metadata": {},
   "outputs": [],
   "source": [
    "def handle_pages(base_url, total_pages, folder_name):\n",
    "    # Create the new directory if it doesn't exist\n",
    "    if not os.path.exists(folder_name):\n",
    "        os.makedirs(folder_name)\n",
    "        #print(f\"Created directory: {folder_name}\")\n",
    "    \n",
    "    for page_number in range(1, total_pages + 1):\n",
    "        # Adjust the page URL for the first page or subsequent pages\n",
    "        if page_number == 1:\n",
    "            page_url = base_url\n",
    "        else:\n",
    "            page_url = f\"{base_url}/{str(page_number).zfill(6)}\"\n",
    "        \n",
    "        #print(f\"Processing page: {page_url}\")\n",
    "        \n",
    "        # Retrieve content from the page\n",
    "        data = retrieve_content(page_url)\n",
    "        \n",
    "        if data:\n",
    "            # Construct the file name using the folder path and base URL\n",
    "            file_name = os.path.join(folder_name, base_url.split('/')[-2] + '.xlsx')\n",
    "            \n",
    "            # Create the file or append to it\n",
    "            create_or_append_xls_file(data, file_name)\n",
    "        else:\n",
    "            print(f\"No content retrieved for {page_url}\")\n",
    "\n",
    "    print(f\"All files saved in the directory: {folder_name}\")"
   ]
  },
  {
   "cell_type": "code",
   "execution_count": 30,
   "metadata": {},
   "outputs": [],
   "source": [
    "def find_folders(folder_ls, url):\n",
    "    try:\n",
    "        # Fetch the content from the URL\n",
    "        response = requests.get(url, verify=False)  # Set verify=False to ignore SSL warnings\n",
    "        response.raise_for_status()  # Raise an exception for HTTP errors\n",
    "        \n",
    "        # Parse the content with BeautifulSoup\n",
    "        soup = BeautifulSoup(response.content, 'html.parser')\n",
    "        \n",
    "        # Find all folder links\n",
    "        folders = []\n",
    "        for a_tag in soup.find_all('a', href=True):\n",
    "            href = a_tag['href']\n",
    "            if f'/{folder_ls}/' in href and href not in folders:\n",
    "                folders.append(href)\n",
    "        \n",
    "        return folders\n",
    "\n",
    "    except requests.RequestException as e:\n",
    "        print(f\"Error fetching content from {url}: {e}\")\n",
    "        return []"
   ]
  },
  {
   "cell_type": "code",
   "execution_count": 31,
   "metadata": {},
   "outputs": [],
   "source": [
    "def process_all_folders_and_subfolders(url, folder_name, total_pages=7):\n",
    "    # Find and process all folders\n",
    "    folders = find_folders(folder_name, url)\n",
    "\n",
    "    for folder in folders:\n",
    "        print(f\"Processing folder: {folder}\")\n",
    "        \n",
    "        # Find subfolders within the current folder\n",
    "        subfolders = find_folders(folder_name, folder)\n",
    "        \n",
    "        # If no subfolders are found, handle just the main folder\n",
    "        if not subfolders:\n",
    "            handle_pages(folder, total_pages, folder_name)\n",
    "        else:\n",
    "            # Process each subfolder individually\n",
    "            for subfolder in subfolders:\n",
    "                print(f\"Processing subfolder: {subfolder}\")\n",
    "                handle_pages(subfolder, total_pages, folder_name)\n",
    "\n",
    "        # After processing all subfolders of the current folder, move to the next folder\n",
    "        print(f\"Finished processing folder: {folder}\")\n",
    "        break\n",
    "\n",
    "    print(\"All folders and subfolders processed successfully.\")\n"
   ]
  },
  {
   "cell_type": "markdown",
   "metadata": {},
   "source": [
    "All files --> 1 File per Topic"
   ]
  },
  {
   "cell_type": "code",
   "execution_count": 32,
   "metadata": {},
   "outputs": [],
   "source": [
    "def check_for_duplicates(file_path):\n",
    "    \"\"\"Check for duplicate entries in the Excel file based on 'Question Text'.\"\"\"\n",
    "    try:\n",
    "        # Read the data from the Excel file\n",
    "        df = pd.read_excel(file_path)\n",
    "\n",
    "        # Check for duplicate questions\n",
    "        if 'Question Text' not in df.columns:\n",
    "            print(\"The expected column 'Question Text' is missing from the file.\")\n",
    "            return\n",
    "\n",
    "        # Identify duplicates\n",
    "        duplicates = df[df.duplicated(subset=['Question Text'], keep=False)]\n",
    "\n",
    "        if duplicates.empty:\n",
    "            print(\"No duplicate questions found.\")\n",
    "        else:\n",
    "            print(f\"Found {len(duplicates)} duplicate entries.\")\n",
    "            print(duplicates[['Question Number', 'Question Text']])\n",
    "            # Optionally, save duplicates to a separate file\n",
    "            duplicates.to_excel('duplicates_found.xlsx', index=False)\n",
    "            print(\"Duplicate entries have been saved to 'duplicates_found.xlsx'.\")\n",
    "\n",
    "    except FileNotFoundError:\n",
    "        print(f\"File not found: {file_path}\")\n",
    "    except Exception as e:\n",
    "        print(f\"An error occurred: {e}\")"
   ]
  },
  {
   "cell_type": "code",
   "execution_count": 33,
   "metadata": {},
   "outputs": [],
   "source": [
    "def remove_duplicates_from_file(file_path):\n",
    "    \"\"\"Read an .xlsx file, remove duplicate rows, and save it back.\"\"\"\n",
    "    try:\n",
    "        df = pd.read_excel(file_path)\n",
    "        \n",
    "        # Remove duplicate rows based on 'Question Number' and 'Question Text'\n",
    "        df_cleaned = df.drop_duplicates(subset=['Question Number', 'Question Text'])\n",
    "        \n",
    "        # Save the cleaned DataFrame back to the file\n",
    "        df_cleaned.to_excel(file_path, index=False)\n",
    "        print(f\"Duplicates removed and file saved: {file_path}\")\n",
    "    except Exception as e:\n",
    "        print(f\"Error processing file {file_path}: {e}\")"
   ]
  },
  {
   "cell_type": "code",
   "execution_count": 34,
   "metadata": {},
   "outputs": [],
   "source": [
    "def process_all_xlsx_files(folder_path):\n",
    "    \"\"\"Process all .xlsx files in the specified folder.\"\"\"\n",
    "    for file_name in os.listdir(folder_path):\n",
    "        if file_name.endswith('.xlsx'):\n",
    "            file_path = os.path.join(folder_path, file_name)\n",
    "            remove_duplicates_from_file(file_path)"
   ]
  },
  {
   "cell_type": "code",
   "execution_count": 35,
   "metadata": {},
   "outputs": [],
   "source": [
    "def search_xlsx_files(directory):\n",
    "    \"\"\"Search for all .xlsx files in the given directory, excluding temporary files.\"\"\"\n",
    "    xlsx_files = [os.path.join(directory, f) for f in os.listdir(directory)\n",
    "                  if f.endswith('.xlsx') and not f.startswith('~$')]\n",
    "    return xlsx_files"
   ]
  },
  {
   "cell_type": "code",
   "execution_count": 36,
   "metadata": {},
   "outputs": [],
   "source": [
    "def read_data_from_file(file_path):\n",
    "    \"\"\"Read data from an .xlsx file and return it as a DataFrame.\"\"\"\n",
    "    try:\n",
    "        df = pd.read_excel(file_path)\n",
    "        return df\n",
    "    except FileNotFoundError:\n",
    "        print(f\"File not found: {file_path}\")\n",
    "        return pd.DataFrame()  # Return an empty DataFrame\n",
    "    except PermissionError:\n",
    "        print(f\"Permission denied: {file_path}\")\n",
    "        return pd.DataFrame()  # Return an empty DataFrame"
   ]
  },
  {
   "cell_type": "code",
   "execution_count": 37,
   "metadata": {},
   "outputs": [],
   "source": [
    "def combine_data(xlsx_files, output_file):\n",
    "    all_data = []\n",
    "    unique_questions = set()  # To keep track of unique questions\n",
    "\n",
    "    for file_path in xlsx_files:\n",
    "        folder_name = os.path.splitext(os.path.basename(file_path))[0]\n",
    "        df = read_data_from_file(file_path)\n",
    "        \n",
    "        for index, row in df.iterrows():\n",
    "            question = row.get('Question Text', '')\n",
    "            if question and question not in unique_questions:\n",
    "                unique_questions.add(question)\n",
    "                all_data.append({\n",
    "                    'Question Number': row.get('Question Number', ''),\n",
    "                    'Question Text': question,\n",
    "                    'Options': row.get('Options', ''),\n",
    "                    'Answer': row.get('Answer', ''),\n",
    "                    'Explanation': row.get('Explanation', ''),\n",
    "                    'Folder Name': folder_name\n",
    "                })\n",
    "    \n",
    "    # Create a DataFrame from the consolidated data\n",
    "    consolidated_df = pd.DataFrame(all_data)\n",
    "\n",
    "    # Write the DataFrame to an .xlsx file using openpyxl\n",
    "    with pd.ExcelWriter(output_file, engine='openpyxl') as writer:\n",
    "        consolidated_df.to_excel(writer, index=False, sheet_name='Consolidated Data')"
   ]
  },
  {
   "cell_type": "code",
   "execution_count": 38,
   "metadata": {},
   "outputs": [],
   "source": [
    "def count_questions_per_topic(file_path):\n",
    "    \"\"\"Count the number of questions per topic and the total number of questions in the Excel file.\"\"\"\n",
    "    try:\n",
    "        # Read the data from the Excel file\n",
    "        df = pd.read_excel(file_path)\n",
    "\n",
    "        # Check if the required columns exist\n",
    "        if 'Folder Name' not in df.columns:\n",
    "            print(\"The expected column 'Folder Name' is missing from the file.\")\n",
    "            return\n",
    "\n",
    "        # Group by 'Folder Name' and count the number of questions\n",
    "        topic_counts = df.groupby('Folder Name').size().reset_index(name='Question Count')\n",
    "\n",
    "        # Print the number of questions per topic\n",
    "        print(\"Number of questions per topic:\")\n",
    "        print(topic_counts)\n",
    "\n",
    "        # Calculate total number of questions\n",
    "        total_questions = df.shape[0]\n",
    "\n",
    "        # Print the total number of questions\n",
    "        print(f\"\\nTotal number of questions: {total_questions}\")\n",
    "\n",
    "    except FileNotFoundError:\n",
    "        print(f\"File not found: {file_path}\")\n",
    "    except Exception as e:\n",
    "        print(f\"An error occurred: {e}\")\n"
   ]
  },
  {
   "cell_type": "markdown",
   "metadata": {},
   "source": [
    "Implementation : Scraping + File Generation"
   ]
  },
  {
   "cell_type": "markdown",
   "metadata": {},
   "source": [
    "General Aptitude"
   ]
  },
  {
   "cell_type": "code",
   "execution_count": 39,
   "metadata": {},
   "outputs": [
    {
     "data": {
      "text/plain": [
       "'\\nfolder_list = [\"aptitude\", \"data-interpretation\", \"verbal-ability\", \"logical-reasoning\", \"verbal-reasoning\", \"non-verbal-reasoning\"]\\n\\nfor folder in folder_list:\\n    url = f\\'https://www.indiabix.com/{folder}/questions-and-answers/\\'\\n    folder_name = folder  # Name of the directory to save all files\\n    folder_path = \"./{folder_name}\"\\n\\n    # Call the function to process folders and subfolders\\n    process_all_folders_and_subfolders(url, folder_name)\\n'"
      ]
     },
     "execution_count": 39,
     "metadata": {},
     "output_type": "execute_result"
    }
   ],
   "source": [
    "'''\n",
    "folder_list = [\"aptitude\", \"data-interpretation\", \"verbal-ability\", \"logical-reasoning\", \"verbal-reasoning\", \"non-verbal-reasoning\"]\n",
    "\n",
    "for folder in folder_list:\n",
    "    url = f'https://www.indiabix.com/{folder}/questions-and-answers/'\n",
    "    folder_name = folder  # Name of the directory to save all files\n",
    "    folder_path = \"./{folder_name}\"\n",
    "\n",
    "    # Call the function to process folders and subfolders\n",
    "    process_all_folders_and_subfolders(url, folder_name)\n",
    "'''"
   ]
  },
  {
   "cell_type": "code",
   "execution_count": 40,
   "metadata": {},
   "outputs": [
    {
     "data": {
      "text/plain": [
       "'\\nfolder_list = [\"aptitude\", \"data-interpretation\", \"verbal-ability\", \"logical-reasoning\", \"verbal-reasoning\", \"non-verbal-reasoning\"]\\n\\nfor folder in folder_list:\\n    \\n    # Directory containing .xlsx files\\n    directory = f\\'./{folder}/\\'  # Correctly format the directory path\\n\\n    # Search for .xlsx files\\n    xlsx_files = search_xlsx_files(directory)\\n\\n    # Output .xlsx file\\n    output_file = f\\'{folder}.xlsx\\'  # Correctly format the output file name\\n\\n    # Consolidate data and write to the output file\\n    combine_data(xlsx_files, output_file)\\n\\n    # Path to the consolidated Excel file\\n    file_path = output_file\\n\\n    # Count questions per topic in the file\\n    count_questions_per_topic(file_path)\\n'"
      ]
     },
     "execution_count": 40,
     "metadata": {},
     "output_type": "execute_result"
    }
   ],
   "source": [
    "'''\n",
    "folder_list = [\"aptitude\", \"data-interpretation\", \"verbal-ability\", \"logical-reasoning\", \"verbal-reasoning\", \"non-verbal-reasoning\"]\n",
    "\n",
    "for folder in folder_list:\n",
    "    \n",
    "    # Directory containing .xlsx files\n",
    "    directory = f'./{folder}/'  # Correctly format the directory path\n",
    "\n",
    "    # Search for .xlsx files\n",
    "    xlsx_files = search_xlsx_files(directory)\n",
    "\n",
    "    # Output .xlsx file\n",
    "    output_file = f'{folder}.xlsx'  # Correctly format the output file name\n",
    "\n",
    "    # Consolidate data and write to the output file\n",
    "    combine_data(xlsx_files, output_file)\n",
    "\n",
    "    # Path to the consolidated Excel file\n",
    "    file_path = output_file\n",
    "\n",
    "    # Count questions per topic in the file\n",
    "    count_questions_per_topic(file_path)\n",
    "'''"
   ]
  },
  {
   "cell_type": "markdown",
   "metadata": {},
   "source": [
    "Technical"
   ]
  },
  {
   "cell_type": "code",
   "execution_count": 41,
   "metadata": {},
   "outputs": [
    {
     "data": {
      "text/plain": [
       "'\\nfolder_list = [\"c-programming\", \"cpp-programming\", \"c-sharp-programming\", \"java-programming\"]\\n\\nfor folder in folder_list:\\n    url = f\\'https://www.indiabix.com/{folder}/questions-and-answers/\\'\\n    folder_name = folder  # Name of the directory to save all files\\n    folder_path = \"./{folder_name}\"\\n\\n    # Call the function to process folders and subfolders\\n    process_all_folders_and_subfolders(url, folder_name)\\n\\n    directory = f\\'./{folder}/\\'  # Correctly format the directory path\\n\\n    # Search for .xlsx files\\n    xlsx_files = search_xlsx_files(directory)\\n\\n    # Output .xlsx file\\n    output_file = f\\'{folder}.xlsx\\'  # Correctly format the output file name\\n\\n    # Consolidate data and write to the output file\\n    combine_data(xlsx_files, output_file)\\n\\n    # Path to the consolidated Excel file\\n    file_path = output_file\\n\\n    # Count questions per topic in the file\\n    count_questions_per_topic(file_path)\\n'"
      ]
     },
     "execution_count": 41,
     "metadata": {},
     "output_type": "execute_result"
    }
   ],
   "source": [
    "'''\n",
    "folder_list = [\"c-programming\", \"cpp-programming\", \"c-sharp-programming\", \"java-programming\"]\n",
    "\n",
    "for folder in folder_list:\n",
    "    url = f'https://www.indiabix.com/{folder}/questions-and-answers/'\n",
    "    folder_name = folder  # Name of the directory to save all files\n",
    "    folder_path = \"./{folder_name}\"\n",
    "\n",
    "    # Call the function to process folders and subfolders\n",
    "    process_all_folders_and_subfolders(url, folder_name)\n",
    "\n",
    "    directory = f'./{folder}/'  # Correctly format the directory path\n",
    "\n",
    "    # Search for .xlsx files\n",
    "    xlsx_files = search_xlsx_files(directory)\n",
    "\n",
    "    # Output .xlsx file\n",
    "    output_file = f'{folder}.xlsx'  # Correctly format the output file name\n",
    "\n",
    "    # Consolidate data and write to the output file\n",
    "    combine_data(xlsx_files, output_file)\n",
    "\n",
    "    # Path to the consolidated Excel file\n",
    "    file_path = output_file\n",
    "\n",
    "    # Count questions per topic in the file\n",
    "    count_questions_per_topic(file_path)\n",
    "'''"
   ]
  },
  {
   "cell_type": "markdown",
   "metadata": {},
   "source": [
    "Counting Questions per Topic in Storage"
   ]
  },
  {
   "cell_type": "code",
   "execution_count": 42,
   "metadata": {},
   "outputs": [],
   "source": [
    "def find_last_non_empty_row(file_path):\n",
    "    \"\"\"Find the last non-empty row in an .xlsx file.\"\"\"\n",
    "    try:\n",
    "        df = pd.read_excel(file_path)\n",
    "        if not df.empty:\n",
    "            # Find the last non-empty row index\n",
    "            last_row_index = df.last_valid_index()\n",
    "            return last_row_index\n",
    "        else:\n",
    "            return None\n",
    "    except Exception as e:\n",
    "        print(f\"Error processing file {file_path}: {e}\")\n",
    "        return None"
   ]
  },
  {
   "cell_type": "code",
   "execution_count": 43,
   "metadata": {},
   "outputs": [],
   "source": [
    "\n",
    "def process_all_xlsx_files_in_folder(folder_path):\n",
    "    \"\"\"Process all .xlsx files in the given folder and find the last non-empty row.\"\"\"\n",
    "    for file_name in os.listdir(folder_path):\n",
    "        if file_name.endswith('.xlsx'):\n",
    "            file_path = os.path.join(folder_path, file_name)\n",
    "            last_row_index = find_last_non_empty_row(file_path)\n",
    "            if last_row_index is not None:\n",
    "                print(f\"{file_name} - No of Questions : {last_row_index-1}\")\n",
    "            else:\n",
    "                print(f\"File: {file_name} is empty or could not be processed.\")"
   ]
  },
  {
   "cell_type": "code",
   "execution_count": 44,
   "metadata": {},
   "outputs": [
    {
     "data": {
      "text/plain": [
       "\"\\n# Path to the current folder containing .xlsx files\\ncurrent_folder = '.'  # Replace 'your_folder_name' with your folder path\\n\\n# Process all .xlsx files in the current folder\\nprocess_all_xlsx_files_in_folder(current_folder)\\n\""
      ]
     },
     "execution_count": 44,
     "metadata": {},
     "output_type": "execute_result"
    }
   ],
   "source": [
    "'''\n",
    "# Path to the current folder containing .xlsx files\n",
    "current_folder = '.'  # Replace 'your_folder_name' with your folder path\n",
    "\n",
    "# Process all .xlsx files in the current folder\n",
    "process_all_xlsx_files_in_folder(current_folder)\n",
    "'''"
   ]
  },
  {
   "cell_type": "markdown",
   "metadata": {},
   "source": [
    "Sections"
   ]
  },
  {
   "cell_type": "code",
   "execution_count": 45,
   "metadata": {},
   "outputs": [],
   "source": [
    "# Define the general and technical categories\n",
    "general_categories = [\n",
    "    \"aptitude\", \n",
    "    \"data-interpretation\", \n",
    "    \"verbal-ability\", \n",
    "    \"logical-reasoning\", \n",
    "    \"verbal-reasoning\"\n",
    "]\n",
    "\n",
    "technical_categories = [\n",
    "    \"c-programming\", \n",
    "    \"cpp-programming\", \n",
    "    \"c-sharp-programming\", \n",
    "    \"java-programming\"\n",
    "]"
   ]
  },
  {
   "cell_type": "markdown",
   "metadata": {},
   "source": [
    "Random Questions Generation"
   ]
  },
  {
   "cell_type": "code",
   "execution_count": 46,
   "metadata": {},
   "outputs": [],
   "source": [
    "# Function to get random questions from a specific category\n",
    "def get_random_questions(category, num_questions, folder_name):\n",
    "    file_path = f\"{folder_name}/{category}.xlsx\"\n",
    "    \n",
    "    if not os.path.exists(file_path):\n",
    "        print(f\"File not found: {file_path}\")\n",
    "        return pd.DataFrame()\n",
    "\n",
    "    df = pd.read_excel(file_path)\n",
    "    \n",
    "    # Shuffle and select a specific number of questions\n",
    "    return df.sample(n=num_questions)"
   ]
  },
  {
   "cell_type": "code",
   "execution_count": 47,
   "metadata": {},
   "outputs": [],
   "source": [
    "# Function to format and display explanation\n",
    "def format_explanation(explanation):\n",
    "    # Remove extra spaces and newlines\n",
    "    return ' '.join(explanation.split())"
   ]
  },
  {
   "cell_type": "code",
   "execution_count": 48,
   "metadata": {},
   "outputs": [],
   "source": [
    "# Function to ask questions and track score\n",
    "def ask_questions(questions, category):\n",
    "    score = 0\n",
    "    \n",
    "    for i, (index, row) in enumerate(questions.iterrows(), start=1):\n",
    "        print(f\"\\n--- {category.capitalize()} Q{i} ---\")\n",
    "        print(f\"\\n Question: {row['Question Text']}\")\n",
    "        \n",
    "        options = row['Options'].split('\\n')  # Assuming options are separated by newlines\n",
    "        for idx, option in enumerate(options, start=1):\n",
    "            print(f\"{option}\")\n",
    "        \n",
    "        answer = input(\"Your answer (A, B, C, D): \").strip().upper()\n",
    "        correct_answer = row['Answer'].strip().upper()\n",
    "        \n",
    "        if answer == correct_answer:\n",
    "            print(\"Correct!\")\n",
    "            score += 1\n",
    "        else:\n",
    "            print(f\"\\n Incorrect. The correct answer was {correct_answer}.\")\n",
    "        \n",
    "        if pd.notna(row['Explanation']):\n",
    "            formatted_explanation = format_explanation(row['Explanation'])\n",
    "            print(f\"\\nExplanation: {formatted_explanation}\")\n",
    "\n",
    "    return score"
   ]
  },
  {
   "cell_type": "markdown",
   "metadata": {},
   "source": [
    "Take A Quize...!"
   ]
  },
  {
   "cell_type": "code",
   "execution_count": 49,
   "metadata": {},
   "outputs": [],
   "source": [
    "# Function to conduct the quiz\n",
    "def conduct_quiz(category_list, num_questions_per_category, folder_name):\n",
    "    total_score = 0\n",
    "    total_questions = 0\n",
    "\n",
    "    for category in category_list:\n",
    "        print(f\"\\n--- Category: {category.capitalize()} ---\")\n",
    "        questions = get_random_questions(category, num_questions_per_category, folder_name)\n",
    "        if questions.empty:\n",
    "            continue\n",
    "\n",
    "        score = ask_questions(questions, category)\n",
    "        total_score += score\n",
    "        total_questions += len(questions)\n",
    "\n",
    "    print(f\"\\nQuiz finished! Your total score is {total_score}/{total_questions}.\")"
   ]
  },
  {
   "cell_type": "code",
   "execution_count": 50,
   "metadata": {},
   "outputs": [
    {
     "name": "stdout",
     "output_type": "stream",
     "text": [
      "\n",
      "--- Category: Aptitude ---\n",
      "\n",
      "--- Aptitude Q1 ---\n",
      "\n",
      " Question: Two stations A and B are 110 km apart on a straight line. One train starts from A at 7 a.m. and travels towards B at 20 kmph. Another train starts from B at 8 a.m. and travels towards A at a speed of 25 kmph. At what time will they meet?\n",
      "9 a.m.; 10 a.m.; 10.30 a.m.; 11 a.m.\n",
      "\n",
      " Incorrect. The correct answer was B.\n",
      "\n",
      "Explanation: Answer: Option Explanation: Suppose they meet x hours after 7 a.m. Distance covered by A in x hours = 20x km. Distance covered by B in (x - 1) hours = 25(x - 1) km. 20x + 25(x - 1) = 110 45x = 135 x = 3. So, they meet at 10 a.m.\n",
      "\n",
      "--- Category: Data-interpretation ---\n",
      "\n",
      "--- Data-interpretation Q1 ---\n",
      "\n",
      " Question: Average annual exports during the given period for Company Y is approximately what percent of the average annual exports for Company Z?\n",
      "87.12%; 89.64%; 91.21%; 93.33%\n"
     ]
    }
   ],
   "source": [
    "# Main execution function\n",
    "category_set = input(\"Lets start the Apptitude Quiz :(technical/general) \").strip().lower()\n",
    "num_questions = int(input(\"How many questions per category? \"))\n",
    "    \n",
    "folder_name = \".\"  # Update this to the correct folder path\n",
    "\n",
    "if category_set == 'general':\n",
    "    conduct_quiz(general_categories, num_questions, folder_name)\n",
    "elif category_set=='technical':\n",
    "    conduct_quiz(technical_categories,num_questions, folder_name)\n",
    "else:\n",
    "    print(\"Invalid category set. Please choose 'general' or 'technical'.\")"
   ]
  }
 ],
 "metadata": {
  "kernelspec": {
   "display_name": "Terna",
   "language": "python",
   "name": "python3"
  },
  "language_info": {
   "codemirror_mode": {
    "name": "ipython",
    "version": 3
   },
   "file_extension": ".py",
   "mimetype": "text/x-python",
   "name": "python",
   "nbconvert_exporter": "python",
   "pygments_lexer": "ipython3",
   "version": "3.11.5"
  }
 },
 "nbformat": 4,
 "nbformat_minor": 2
}
